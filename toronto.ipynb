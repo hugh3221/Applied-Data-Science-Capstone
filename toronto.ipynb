{
 "cells": [
  {
   "cell_type": "markdown",
   "metadata": {},
   "source": [
    "# Segmenting and Clustering Neighborhoods in Toronto"
   ]
  },
  {
   "cell_type": "markdown",
   "metadata": {},
   "source": [
    "## Description\n",
    "### This notebook contains the code to complete webpage scraping using beautiful soup "
   ]
  },
  {
   "cell_type": "code",
   "execution_count": 2,
   "metadata": {},
   "outputs": [],
   "source": [
    "import numpy as np\n",
    "import pandas as pd"
   ]
  },
  {
   "cell_type": "code",
   "execution_count": 5,
   "metadata": {},
   "outputs": [
    {
     "name": "stdout",
     "output_type": "stream",
     "text": [
      "Solving environment: done\n",
      "\n",
      "## Package Plan ##\n",
      "\n",
      "  environment location: /home/jupyterlab/conda\n",
      "\n",
      "  added / updated specs: \n",
      "    - beautifulsoup4\n",
      "\n",
      "\n",
      "The following packages will be downloaded:\n",
      "\n",
      "    package                    |            build\n",
      "    ---------------------------|-----------------\n",
      "    cryptography-2.5           |   py36h1ba5d50_0         643 KB\n",
      "    ca-certificates-2019.1.23  |                0         126 KB\n",
      "    soupsieve-1.7.1            |           py36_0          50 KB\n",
      "    grpcio-1.16.1              |   py36hf8bcb03_1         1.1 MB\n",
      "    libarchive-3.3.3           |       h5d8350f_5         1.5 MB\n",
      "    certifi-2018.11.29         |           py36_0         146 KB\n",
      "    beautifulsoup4-4.7.1       |           py36_1         143 KB\n",
      "    conda-4.6.3                |           py36_0         1.7 MB\n",
      "    python-3.6.8               |       h0371630_0        34.4 MB\n",
      "    ------------------------------------------------------------\n",
      "                                           Total:        39.7 MB\n",
      "\n",
      "The following NEW packages will be INSTALLED:\n",
      "\n",
      "    soupsieve:       1.7.1-py36_0                        \n",
      "\n",
      "The following packages will be UPDATED:\n",
      "\n",
      "    beautifulsoup4:  4.6.3-py36_0             anaconda    --> 4.7.1-py36_1           \n",
      "    ca-certificates: 2018.11.29-ha4d7672_0    conda-forge --> 2019.1.23-0            \n",
      "    conda:           4.5.12-py36_1000         conda-forge --> 4.6.3-py36_0           \n",
      "    cryptography:    2.3.1-py36hb7f436b_1000  conda-forge --> 2.5-py36h1ba5d50_0     \n",
      "    curl:            7.63.0-h646f8bb_1000     conda-forge --> 7.63.0-hbc83047_1000   \n",
      "    grpcio:          1.16.0-py36h4f00d22_1000 conda-forge --> 1.16.1-py36hf8bcb03_1  \n",
      "    libcurl:         7.63.0-h01ee5af_1000     conda-forge --> 7.63.0-h20c2e04_1000   \n",
      "    openssl:         1.0.2p-h14c3975_1002     conda-forge --> 1.1.1a-h7b6447c_0      \n",
      "    pycurl:          7.43.0.2-py36hb7f436b_0              --> 7.43.0.2-py36h1ba5d50_0\n",
      "    python:          3.6.6-hd21baee_1003      conda-forge --> 3.6.8-h0371630_0       \n",
      "    qt:              5.9.6-h8703b6f_2                     --> 5.9.7-h5867ecd_1       \n",
      "\n",
      "The following packages will be DOWNGRADED:\n",
      "\n",
      "    certifi:         2018.11.29-py36_1000     conda-forge --> 2018.11.29-py36_0      \n",
      "    krb5:            1.16.2-hc83ff2d_1000     conda-forge --> 1.16.1-h173b8e3_7      \n",
      "    libarchive:      3.3.3-ha149a29_1000      conda-forge --> 3.3.3-h5d8350f_5       \n",
      "    libssh2:         1.8.0-h1ad7b7a_1003      conda-forge --> 1.8.0-h1ba5d50_4       \n",
      "\n",
      "\n",
      "Downloading and Extracting Packages\n",
      "cryptography-2.5     | 643 KB    | ##################################### | 100% \n",
      "ca-certificates-2019 | 126 KB    | ##################################### | 100% \n",
      "soupsieve-1.7.1      | 50 KB     | ##################################### | 100% \n",
      "grpcio-1.16.1        | 1.1 MB    | ##################################### | 100% \n",
      "libarchive-3.3.3     | 1.5 MB    | ##################################### | 100% \n",
      "certifi-2018.11.29   | 146 KB    | ##################################### | 100% \n",
      "beautifulsoup4-4.7.1 | 143 KB    | ##################################### | 100% \n",
      "conda-4.6.3          | 1.7 MB    | ##################################### | 100% \n",
      "python-3.6.8         | 34.4 MB   | ##################################### | 100% \n",
      "Preparing transaction: done\n",
      "Verifying transaction: done\n",
      "Executing transaction: done\n"
     ]
    }
   ],
   "source": [
    "#install beautifulsoup4\n",
    "!conda install beautifulsoup4 -y"
   ]
  },
  {
   "cell_type": "code",
   "execution_count": 3,
   "metadata": {},
   "outputs": [],
   "source": [
    "from bs4 import BeautifulSoup"
   ]
  },
  {
   "cell_type": "code",
   "execution_count": 61,
   "metadata": {},
   "outputs": [
    {
     "name": "stdout",
     "output_type": "stream",
     "text": [
      "Requirement already satisfied: lxml in /home/jupyterlab/conda/lib/python3.6/site-packages (4.2.5)\n"
     ]
    }
   ],
   "source": [
    "#install lxml parser\n",
    "import sys\n",
    "!{sys.executable} -m pip install lxml"
   ]
  },
  {
   "cell_type": "code",
   "execution_count": 4,
   "metadata": {},
   "outputs": [],
   "source": [
    "import requests"
   ]
  },
  {
   "cell_type": "code",
   "execution_count": 5,
   "metadata": {},
   "outputs": [],
   "source": [
    "# open webpage with beautiful soup using the lxml web parser\n",
    "html_file = requests.get('https://en.wikipedia.org/wiki/List_of_postal_codes_of_Canada:_M').text\n",
    "soup = BeautifulSoup(html_file, 'lxml')"
   ]
  },
  {
   "cell_type": "code",
   "execution_count": 10,
   "metadata": {},
   "outputs": [],
   "source": [
    "# print soup to find html to find\n",
    "#print(soup.prettify()) #Hide once we explore html code "
   ]
  },
  {
   "cell_type": "code",
   "execution_count": 71,
   "metadata": {},
   "outputs": [
    {
     "data": {
      "text/html": [
       "<div>\n",
       "<style scoped>\n",
       "    .dataframe tbody tr th:only-of-type {\n",
       "        vertical-align: middle;\n",
       "    }\n",
       "\n",
       "    .dataframe tbody tr th {\n",
       "        vertical-align: top;\n",
       "    }\n",
       "\n",
       "    .dataframe thead th {\n",
       "        text-align: right;\n",
       "    }\n",
       "</style>\n",
       "<table border=\"1\" class=\"dataframe\">\n",
       "  <thead>\n",
       "    <tr style=\"text-align: right;\">\n",
       "      <th></th>\n",
       "      <th>Postcode</th>\n",
       "      <th>Borough</th>\n",
       "      <th>Neighborhood</th>\n",
       "    </tr>\n",
       "  </thead>\n",
       "  <tbody>\n",
       "    <tr>\n",
       "      <th>0</th>\n",
       "      <td>M1A</td>\n",
       "      <td>Not assigned</td>\n",
       "      <td>Not assigned</td>\n",
       "    </tr>\n",
       "    <tr>\n",
       "      <th>1</th>\n",
       "      <td>M2A</td>\n",
       "      <td>Not assigned</td>\n",
       "      <td>Not assigned</td>\n",
       "    </tr>\n",
       "    <tr>\n",
       "      <th>2</th>\n",
       "      <td>M3A</td>\n",
       "      <td>North York</td>\n",
       "      <td>Parkwoods</td>\n",
       "    </tr>\n",
       "    <tr>\n",
       "      <th>3</th>\n",
       "      <td>M4A</td>\n",
       "      <td>North York</td>\n",
       "      <td>Victoria Village</td>\n",
       "    </tr>\n",
       "    <tr>\n",
       "      <th>4</th>\n",
       "      <td>M5A</td>\n",
       "      <td>Downtown Toronto</td>\n",
       "      <td>Harbourfront</td>\n",
       "    </tr>\n",
       "  </tbody>\n",
       "</table>\n",
       "</div>"
      ],
      "text/plain": [
       "  Postcode           Borough      Neighborhood\n",
       "0      M1A      Not assigned      Not assigned\n",
       "1      M2A      Not assigned      Not assigned\n",
       "2      M3A        North York         Parkwoods\n",
       "3      M4A        North York  Victoria Village\n",
       "4      M5A  Downtown Toronto      Harbourfront"
      ]
     },
     "execution_count": 71,
     "metadata": {},
     "output_type": "execute_result"
    }
   ],
   "source": [
    "# Scrape table using beautifulsoup and pandas\n",
    "table = soup.find('table',class_='wikitable sortable')\n",
    "table_rows = table.find_all('tr')\n",
    "    \n",
    "res = []\n",
    "for tr in table_rows:\n",
    "    td = tr.find_all('td')\n",
    "    row = [tr.text.strip() for tr in td if tr.text.strip()]\n",
    "    if row:\n",
    "        res.append(row)\n",
    " \n",
    "df = pd.DataFrame(res, columns=[\"Postcode\", \"Borough\", \"Neighborhood\"])\n",
    "df.head()"
   ]
  },
  {
   "cell_type": "code",
   "execution_count": 72,
   "metadata": {},
   "outputs": [
    {
     "data": {
      "text/html": [
       "<div>\n",
       "<style scoped>\n",
       "    .dataframe tbody tr th:only-of-type {\n",
       "        vertical-align: middle;\n",
       "    }\n",
       "\n",
       "    .dataframe tbody tr th {\n",
       "        vertical-align: top;\n",
       "    }\n",
       "\n",
       "    .dataframe thead th {\n",
       "        text-align: right;\n",
       "    }\n",
       "</style>\n",
       "<table border=\"1\" class=\"dataframe\">\n",
       "  <thead>\n",
       "    <tr style=\"text-align: right;\">\n",
       "      <th></th>\n",
       "      <th>Postcode</th>\n",
       "      <th>Borough</th>\n",
       "      <th>Neighborhood</th>\n",
       "    </tr>\n",
       "  </thead>\n",
       "  <tbody>\n",
       "    <tr>\n",
       "      <th>2</th>\n",
       "      <td>M3A</td>\n",
       "      <td>North York</td>\n",
       "      <td>Parkwoods</td>\n",
       "    </tr>\n",
       "    <tr>\n",
       "      <th>3</th>\n",
       "      <td>M4A</td>\n",
       "      <td>North York</td>\n",
       "      <td>Victoria Village</td>\n",
       "    </tr>\n",
       "    <tr>\n",
       "      <th>4</th>\n",
       "      <td>M5A</td>\n",
       "      <td>Downtown Toronto</td>\n",
       "      <td>Harbourfront</td>\n",
       "    </tr>\n",
       "    <tr>\n",
       "      <th>5</th>\n",
       "      <td>M5A</td>\n",
       "      <td>Downtown Toronto</td>\n",
       "      <td>Regent Park</td>\n",
       "    </tr>\n",
       "    <tr>\n",
       "      <th>6</th>\n",
       "      <td>M6A</td>\n",
       "      <td>North York</td>\n",
       "      <td>Lawrence Heights</td>\n",
       "    </tr>\n",
       "  </tbody>\n",
       "</table>\n",
       "</div>"
      ],
      "text/plain": [
       "  Postcode           Borough      Neighborhood\n",
       "2      M3A        North York         Parkwoods\n",
       "3      M4A        North York  Victoria Village\n",
       "4      M5A  Downtown Toronto      Harbourfront\n",
       "5      M5A  Downtown Toronto       Regent Park\n",
       "6      M6A        North York  Lawrence Heights"
      ]
     },
     "execution_count": 72,
     "metadata": {},
     "output_type": "execute_result"
    }
   ],
   "source": [
    "# Ignore cells with a borough that is Not assigned\n",
    "\n",
    "df.drop(df[df['Borough']==\"Not assigned\"].index,axis=0, inplace=True)\n",
    "df.head(5)"
   ]
  },
  {
   "cell_type": "code",
   "execution_count": 75,
   "metadata": {},
   "outputs": [
    {
     "data": {
      "text/html": [
       "<div>\n",
       "<style scoped>\n",
       "    .dataframe tbody tr th:only-of-type {\n",
       "        vertical-align: middle;\n",
       "    }\n",
       "\n",
       "    .dataframe tbody tr th {\n",
       "        vertical-align: top;\n",
       "    }\n",
       "\n",
       "    .dataframe thead th {\n",
       "        text-align: right;\n",
       "    }\n",
       "</style>\n",
       "<table border=\"1\" class=\"dataframe\">\n",
       "  <thead>\n",
       "    <tr style=\"text-align: right;\">\n",
       "      <th></th>\n",
       "      <th>Borough</th>\n",
       "      <th>Neighborhood</th>\n",
       "    </tr>\n",
       "    <tr>\n",
       "      <th>Postcode</th>\n",
       "      <th></th>\n",
       "      <th></th>\n",
       "    </tr>\n",
       "  </thead>\n",
       "  <tbody>\n",
       "    <tr>\n",
       "      <th>M1B</th>\n",
       "      <td>Scarborough</td>\n",
       "      <td>Malvern,Rouge</td>\n",
       "    </tr>\n",
       "    <tr>\n",
       "      <th>M1C</th>\n",
       "      <td>Scarborough</td>\n",
       "      <td>Highland Creek,Rouge Hill,Port Union</td>\n",
       "    </tr>\n",
       "    <tr>\n",
       "      <th>M1E</th>\n",
       "      <td>Scarborough</td>\n",
       "      <td>Morningside,Guildwood,West Hill</td>\n",
       "    </tr>\n",
       "    <tr>\n",
       "      <th>M1G</th>\n",
       "      <td>Scarborough</td>\n",
       "      <td>Woburn</td>\n",
       "    </tr>\n",
       "    <tr>\n",
       "      <th>M1H</th>\n",
       "      <td>Scarborough</td>\n",
       "      <td>Cedarbrae</td>\n",
       "    </tr>\n",
       "  </tbody>\n",
       "</table>\n",
       "</div>"
      ],
      "text/plain": [
       "              Borough                          Neighborhood\n",
       "Postcode                                                   \n",
       "M1B       Scarborough                         Malvern,Rouge\n",
       "M1C       Scarborough  Highland Creek,Rouge Hill,Port Union\n",
       "M1E       Scarborough       Morningside,Guildwood,West Hill\n",
       "M1G       Scarborough                                Woburn\n",
       "M1H       Scarborough                             Cedarbrae"
      ]
     },
     "execution_count": 75,
     "metadata": {},
     "output_type": "execute_result"
    }
   ],
   "source": [
    "# Group by postal code and combine neighborhoods, separating by commas\n",
    "df1=df.groupby(\"Postcode\").agg(lambda x:','.join(set(x)))\n",
    "df1.head()"
   ]
  },
  {
   "cell_type": "code",
   "execution_count": 85,
   "metadata": {},
   "outputs": [],
   "source": [
    "# if a cell has a borough but a Not assigned neighborhood, then the neighborhood will be the same as the borough.\n",
    "df1.loc[df1['Neighborhood']==\"Not assigned\",'Neighborhood']=df1.loc[df1['Neighborhood']==\"Not assigned\",'Borough']"
   ]
  },
  {
   "cell_type": "code",
   "execution_count": 86,
   "metadata": {},
   "outputs": [
    {
     "name": "stdout",
     "output_type": "stream",
     "text": [
      "                   Borough                                       Neighborhood\n",
      "Postcode                                                                     \n",
      "M1B            Scarborough                                      Malvern,Rouge\n",
      "M1C            Scarborough               Highland Creek,Rouge Hill,Port Union\n",
      "M1E            Scarborough                    Morningside,Guildwood,West Hill\n",
      "M1G            Scarborough                                             Woburn\n",
      "M1H            Scarborough                                          Cedarbrae\n",
      "M1J            Scarborough                                Scarborough Village\n",
      "M1K            Scarborough          Ionview,Kennedy Park,East Birchmount Park\n",
      "M1L            Scarborough                      Golden Mile,Clairlea,Oakridge\n",
      "M1M            Scarborough      Cliffside,Scarborough Village West,Cliffcrest\n",
      "M1N            Scarborough                         Cliffside West,Birch Cliff\n",
      "M1P            Scarborough  Scarborough Town Centre,Wexford Heights,Dorset...\n",
      "M1R            Scarborough                                   Wexford,Maryvale\n",
      "M1S            Scarborough                                          Agincourt\n",
      "M1T            Scarborough              Sullivan,Clarks Corners,Tam O'Shanter\n",
      "M1V            Scarborough  Agincourt North,Steeles East,L'Amoreaux East,M...\n",
      "M1W            Scarborough                       L'Amoreaux West,Steeles West\n",
      "M1X            Scarborough                                        Upper Rouge\n",
      "M2H             North York                                  Hillcrest Village\n",
      "M2J             North York                         Fairview,Oriole,Henry Farm\n",
      "M2K             North York                                    Bayview Village\n",
      "M2L             North York                            Silver Hills,York Mills\n",
      "M2M             North York                             Willowdale,Newtonbrook\n",
      "M2N             North York                                   Willowdale South\n",
      "M2P             North York                                    York Mills West\n",
      "M2R             North York                                    Willowdale West\n",
      "M3A             North York                                          Parkwoods\n",
      "M3B             North York                                    Don Mills North\n",
      "M3C             North York                    Don Mills South,Flemingdon Park\n",
      "M3H             North York      Downsview North,Wilson Heights,Bathurst Manor\n",
      "M3J             North York                     Northwood Park,York University\n",
      "...                    ...                                                ...\n",
      "M6C                   York                                 Humewood-Cedarvale\n",
      "M6E                   York                                Caledonia-Fairbanks\n",
      "M6G       Downtown Toronto                                           Christie\n",
      "M6H           West Toronto                        Dovercourt Village,Dufferin\n",
      "M6J           West Toronto                            Little Portugal,Trinity\n",
      "M6K           West Toronto         Exhibition Place,Parkdale Village,Brockton\n",
      "M6L             North York             Upwood Park,North Park,Maple Leaf Park\n",
      "M6M                   York        Silverthorn,Mount Dennis,Keelesdale,Del Ray\n",
      "M6N                   York                       The Junction North,Runnymede\n",
      "M6P           West Toronto                       High Park,The Junction South\n",
      "M6R           West Toronto                              Parkdale,Roncesvalles\n",
      "M6S           West Toronto                                  Swansea,Runnymede\n",
      "M7A           Queen's Park                                       Queen's Park\n",
      "M7R            Mississauga              Canada Post Gateway Processing Centre\n",
      "M7Y           East Toronto  Business Reply Mail Processing Centre 969 Eastern\n",
      "M8V              Etobicoke         Mimico South,New Toronto,Humber Bay Shores\n",
      "M8W              Etobicoke                              Alderwood,Long Branch\n",
      "M8X              Etobicoke        The Kingsway,Montgomery Road,Old Mill North\n",
      "M8Y              Etobicoke  Sunnylea,Kingsway Park South East,Mimico NE,Th...\n",
      "M8Z              Etobicoke  Kingsway Park South West,The Queensway West,Mi...\n",
      "M9A              Etobicoke                                   Islington Avenue\n",
      "M9B              Etobicoke  Princess Gardens,West Deane Park,Martin Grove,...\n",
      "M9C              Etobicoke  Markland Wood,Old Burnhamthorpe,Bloordale Gard...\n",
      "M9L             North York                                      Humber Summit\n",
      "M9M             North York                                    Emery,Humberlea\n",
      "M9N                   York                                             Weston\n",
      "M9P              Etobicoke                                          Westmount\n",
      "M9R              Etobicoke  Richview Gardens,Kingsview Village,St. Phillip...\n",
      "M9V              Etobicoke  Mount Olive,South Steeles,Thistletown,Silverst...\n",
      "M9W              Etobicoke                                          Northwest\n",
      "\n",
      "[103 rows x 2 columns]\n"
     ]
    }
   ],
   "source": [
    "print(df1)"
   ]
  },
  {
   "cell_type": "code",
   "execution_count": 84,
   "metadata": {},
   "outputs": [
    {
     "data": {
      "text/plain": [
       "(103, 2)"
      ]
     },
     "execution_count": 84,
     "metadata": {},
     "output_type": "execute_result"
    }
   ],
   "source": [
    "df1.shape"
   ]
  }
 ],
 "metadata": {
  "kernelspec": {
   "display_name": "Python 3",
   "language": "python",
   "name": "python3"
  },
  "language_info": {
   "codemirror_mode": {
    "name": "ipython",
    "version": 3
   },
   "file_extension": ".py",
   "mimetype": "text/x-python",
   "name": "python",
   "nbconvert_exporter": "python",
   "pygments_lexer": "ipython3",
   "version": "3.6.6"
  }
 },
 "nbformat": 4,
 "nbformat_minor": 2
}
